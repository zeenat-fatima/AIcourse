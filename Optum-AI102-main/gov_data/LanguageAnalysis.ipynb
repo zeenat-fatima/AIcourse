{
 "cells": [
  {
   "cell_type": "markdown",
   "metadata": {},
   "source": [
    "#### Text analytics"
   ]
  },
  {
   "cell_type": "code",
   "execution_count": 166,
   "metadata": {},
   "outputs": [],
   "source": [
    "# Pandas \n",
    "import pandas as pd "
   ]
  },
  {
   "cell_type": "code",
   "execution_count": 167,
   "metadata": {},
   "outputs": [],
   "source": [
    "# Change path as per the loaction of the data \n",
    "action_history_path = r'C:\\Users\\shivamsharma\\OneDrive - techscalable\\Training\\AI-102\\Demo\\Language_Analysis\\gov_data\\no_pii_action_history_reprocessed2.json'\n",
    "\n",
    "categorycode_mapping_path = r'C:\\Users\\shivamsharma\\OneDrive - techscalable\\Training\\AI-102\\Demo\\Language_Analysis\\gov_data\\CategoryCode_Mapping.xlsx'\n",
    "\n",
    "no_pii_grievance_path = r'C:\\Users\\shivamsharma\\OneDrive - techscalable\\Training\\AI-102\\Demo\\Language_Analysis\\gov_data\\no_pii_grievance.json'"
   ]
  },
  {
   "cell_type": "code",
   "execution_count": 168,
   "metadata": {},
   "outputs": [],
   "source": [
    "# Read the files \n",
    "action_history_df = pd.read_json(action_history_path)\n",
    "categorycode_mapping_df = pd.read_excel(categorycode_mapping_path)\n",
    "no_pii_grievance_df = pd.read_json(no_pii_grievance_path)"
   ]
  },
  {
   "cell_type": "code",
   "execution_count": 205,
   "metadata": {},
   "outputs": [
    {
     "name": "stdout",
     "output_type": "stream",
     "text": [
      "Index(['_id', 'OfficerDetail', 'OfficerDetail_torg', 'Usercode', 'action_srno',\n",
      "       'action_status', 'date_of_action', 'do_code', 'document_id', 'flag',\n",
      "       'item_no', 'org_code', 'registration_no', 'remarks', 'torg', 'delay',\n",
      "       'comment'],\n",
      "      dtype='object')\n"
     ]
    },
    {
     "data": {
      "text/html": [
       "<div>\n",
       "<style scoped>\n",
       "    .dataframe tbody tr th:only-of-type {\n",
       "        vertical-align: middle;\n",
       "    }\n",
       "\n",
       "    .dataframe tbody tr th {\n",
       "        vertical-align: top;\n",
       "    }\n",
       "\n",
       "    .dataframe thead th {\n",
       "        text-align: right;\n",
       "    }\n",
       "</style>\n",
       "<table border=\"1\" class=\"dataframe\">\n",
       "  <thead>\n",
       "    <tr style=\"text-align: right;\">\n",
       "      <th></th>\n",
       "      <th>_id</th>\n",
       "      <th>OfficerDetail</th>\n",
       "      <th>OfficerDetail_torg</th>\n",
       "      <th>Usercode</th>\n",
       "      <th>action_srno</th>\n",
       "      <th>action_status</th>\n",
       "      <th>date_of_action</th>\n",
       "      <th>do_code</th>\n",
       "      <th>document_id</th>\n",
       "      <th>flag</th>\n",
       "      <th>item_no</th>\n",
       "      <th>org_code</th>\n",
       "      <th>registration_no</th>\n",
       "      <th>remarks</th>\n",
       "      <th>torg</th>\n",
       "      <th>delay</th>\n",
       "      <th>comment</th>\n",
       "    </tr>\n",
       "  </thead>\n",
       "  <tbody>\n",
       "    <tr>\n",
       "      <th>0</th>\n",
       "      <td>MORLY/E/2023/0000001_1</td>\n",
       "      <td>None</td>\n",
       "      <td>None</td>\n",
       "      <td>NaN</td>\n",
       "      <td>1</td>\n",
       "      <td>00</td>\n",
       "      <td>2023-01-01T00:00:00.000+0000</td>\n",
       "      <td>None</td>\n",
       "      <td>None</td>\n",
       "      <td>None</td>\n",
       "      <td>NaN</td>\n",
       "      <td>C1TZN</td>\n",
       "      <td>MORLY/E/2023/0000001</td>\n",
       "      <td>None</td>\n",
       "      <td>MORLY</td>\n",
       "      <td>NaN</td>\n",
       "      <td>NaN</td>\n",
       "    </tr>\n",
       "    <tr>\n",
       "      <th>1</th>\n",
       "      <td>MORLY/E/2023/0000001_2</td>\n",
       "      <td>MAMTA SINGH (DEO)</td>\n",
       "      <td>None</td>\n",
       "      <td>NaN</td>\n",
       "      <td>2</td>\n",
       "      <td>4T</td>\n",
       "      <td>2023-01-02T00:00:00.000+0000</td>\n",
       "      <td>None</td>\n",
       "      <td>None</td>\n",
       "      <td>None</td>\n",
       "      <td>NaN</td>\n",
       "      <td>MORLY</td>\n",
       "      <td>MORLY/E/2023/0000001</td>\n",
       "      <td></td>\n",
       "      <td>ERLYS</td>\n",
       "      <td>0.0</td>\n",
       "      <td>NaN</td>\n",
       "    </tr>\n",
       "  </tbody>\n",
       "</table>\n",
       "</div>"
      ],
      "text/plain": [
       "                      _id      OfficerDetail OfficerDetail_torg  Usercode  \\\n",
       "0  MORLY/E/2023/0000001_1               None               None       NaN   \n",
       "1  MORLY/E/2023/0000001_2  MAMTA SINGH (DEO)               None       NaN   \n",
       "\n",
       "   action_srno action_status                date_of_action do_code  \\\n",
       "0            1            00  2023-01-01T00:00:00.000+0000    None   \n",
       "1            2            4T  2023-01-02T00:00:00.000+0000    None   \n",
       "\n",
       "  document_id  flag  item_no org_code       registration_no remarks   torg  \\\n",
       "0        None  None      NaN    C1TZN  MORLY/E/2023/0000001    None  MORLY   \n",
       "1        None  None      NaN    MORLY  MORLY/E/2023/0000001          ERLYS   \n",
       "\n",
       "   delay comment  \n",
       "0    NaN     NaN  \n",
       "1    0.0     NaN  "
      ]
     },
     "execution_count": 205,
     "metadata": {},
     "output_type": "execute_result"
    }
   ],
   "source": [
    "# registration_no = ID of  the ticket \n",
    "# torg =  to which dept it was forwared \n",
    "# Usercode = ID of the user\n",
    "# OfficerDetail = Officer names\n",
    "# Ticket reg no _1, _2, _3 \n",
    "# Delay = The ticket was under review by the dept for how many days\n",
    "\n",
    "print(action_history_df.columns)  \n",
    "\n",
    "action_history_df.head(2)"
   ]
  },
  {
   "cell_type": "code",
   "execution_count": 208,
   "metadata": {},
   "outputs": [
    {
     "name": "stdout",
     "output_type": "stream",
     "text": [
      "Index(['Code', 'Description', 'OrgCode', 'Parent', 'Stage', 'MonitoringCode'], dtype='object')\n"
     ]
    },
    {
     "data": {
      "text/html": [
       "<div>\n",
       "<style scoped>\n",
       "    .dataframe tbody tr th:only-of-type {\n",
       "        vertical-align: middle;\n",
       "    }\n",
       "\n",
       "    .dataframe tbody tr th {\n",
       "        vertical-align: top;\n",
       "    }\n",
       "\n",
       "    .dataframe thead th {\n",
       "        text-align: right;\n",
       "    }\n",
       "</style>\n",
       "<table border=\"1\" class=\"dataframe\">\n",
       "  <thead>\n",
       "    <tr style=\"text-align: right;\">\n",
       "      <th></th>\n",
       "      <th>Code</th>\n",
       "      <th>Description</th>\n",
       "      <th>OrgCode</th>\n",
       "      <th>Parent</th>\n",
       "      <th>Stage</th>\n",
       "      <th>MonitoringCode</th>\n",
       "    </tr>\n",
       "  </thead>\n",
       "  <tbody>\n",
       "    <tr>\n",
       "      <th>0</th>\n",
       "      <td>1</td>\n",
       "      <td>Telecommunications</td>\n",
       "      <td>DOTEL</td>\n",
       "      <td>NaN</td>\n",
       "      <td>1</td>\n",
       "      <td>506.0</td>\n",
       "    </tr>\n",
       "    <tr>\n",
       "      <th>1</th>\n",
       "      <td>2</td>\n",
       "      <td>Mobile Related</td>\n",
       "      <td>DOTEL</td>\n",
       "      <td>1.0</td>\n",
       "      <td>2</td>\n",
       "      <td>506.0</td>\n",
       "    </tr>\n",
       "    <tr>\n",
       "      <th>2</th>\n",
       "      <td>3</td>\n",
       "      <td>Pension Related</td>\n",
       "      <td>DOTEL</td>\n",
       "      <td>1.0</td>\n",
       "      <td>2</td>\n",
       "      <td>102.0</td>\n",
       "    </tr>\n",
       "    <tr>\n",
       "      <th>3</th>\n",
       "      <td>4</td>\n",
       "      <td>Broadband Related</td>\n",
       "      <td>DOTEL</td>\n",
       "      <td>1.0</td>\n",
       "      <td>2</td>\n",
       "      <td>506.0</td>\n",
       "    </tr>\n",
       "    <tr>\n",
       "      <th>4</th>\n",
       "      <td>5</td>\n",
       "      <td>Landline Related</td>\n",
       "      <td>DOTEL</td>\n",
       "      <td>1.0</td>\n",
       "      <td>2</td>\n",
       "      <td>506.0</td>\n",
       "    </tr>\n",
       "  </tbody>\n",
       "</table>\n",
       "</div>"
      ],
      "text/plain": [
       "   Code         Description OrgCode  Parent  Stage  MonitoringCode\n",
       "0     1  Telecommunications   DOTEL     NaN      1           506.0\n",
       "1     2      Mobile Related   DOTEL     1.0      2           506.0\n",
       "2     3     Pension Related   DOTEL     1.0      2           102.0\n",
       "3     4   Broadband Related   DOTEL     1.0      2           506.0\n",
       "4     5    Landline Related   DOTEL     1.0      2           506.0"
      ]
     },
     "execution_count": 208,
     "metadata": {},
     "output_type": "execute_result"
    }
   ],
   "source": [
    "# Code = Target attribute for a classification problem \n",
    "# Desc, Org, MonitoringCode\n",
    "\n",
    "print(categorycode_mapping_df.columns)\n",
    "categorycode_mapping_df.head(5)"
   ]
  },
  {
   "cell_type": "code",
   "execution_count": 171,
   "metadata": {},
   "outputs": [
    {
     "name": "stdout",
     "output_type": "stream",
     "text": [
      "Index(['_id', 'CategoryV7', 'DiaryDate', 'UserCode', 'closing_date',\n",
      "       'dist_name', 'org_code', 'pincode', 'recvd_date', 'registration_no',\n",
      "       'remarks_text', 'resolution_date', 'sex', 'state',\n",
      "       'subject_content_text', 'v7_target'],\n",
      "      dtype='object')\n"
     ]
    },
    {
     "data": {
      "text/html": [
       "<div>\n",
       "<style scoped>\n",
       "    .dataframe tbody tr th:only-of-type {\n",
       "        vertical-align: middle;\n",
       "    }\n",
       "\n",
       "    .dataframe tbody tr th {\n",
       "        vertical-align: top;\n",
       "    }\n",
       "\n",
       "    .dataframe thead th {\n",
       "        text-align: right;\n",
       "    }\n",
       "</style>\n",
       "<table border=\"1\" class=\"dataframe\">\n",
       "  <thead>\n",
       "    <tr style=\"text-align: right;\">\n",
       "      <th></th>\n",
       "      <th>_id</th>\n",
       "      <th>CategoryV7</th>\n",
       "      <th>DiaryDate</th>\n",
       "      <th>UserCode</th>\n",
       "      <th>closing_date</th>\n",
       "      <th>dist_name</th>\n",
       "      <th>org_code</th>\n",
       "      <th>pincode</th>\n",
       "      <th>recvd_date</th>\n",
       "      <th>registration_no</th>\n",
       "      <th>remarks_text</th>\n",
       "      <th>resolution_date</th>\n",
       "      <th>sex</th>\n",
       "      <th>state</th>\n",
       "      <th>subject_content_text</th>\n",
       "      <th>v7_target</th>\n",
       "    </tr>\n",
       "  </thead>\n",
       "  <tbody>\n",
       "    <tr>\n",
       "      <th>0</th>\n",
       "      <td>MORLY/E/2023/0000001</td>\n",
       "      <td>11578.0</td>\n",
       "      <td>{'$date': '2023-01-01T00:00:19.977Z'}</td>\n",
       "      <td>110124.0</td>\n",
       "      <td>{'$date': '2023-01-04T00:00:00Z'}</td>\n",
       "      <td>North 24 Parganas</td>\n",
       "      <td>MORLY</td>\n",
       "      <td>700130</td>\n",
       "      <td>{'$date': '2023-01-01T00:00:19.977Z'}</td>\n",
       "      <td>MORLY/E/2023/0000001</td>\n",
       "      <td>As per railway record,  there is no authoriz...</td>\n",
       "      <td>{'$date': '2023-01-04T00:00:00Z'}</td>\n",
       "      <td>M</td>\n",
       "      <td>WB</td>\n",
       "      <td>Railways, ( Railway Board) &gt;&gt; Miscellaneous\\r\\...</td>\n",
       "      <td>No</td>\n",
       "    </tr>\n",
       "    <tr>\n",
       "      <th>1</th>\n",
       "      <td>GOVUP/E/2023/0000001</td>\n",
       "      <td>NaN</td>\n",
       "      <td>{'$date': '2023-01-01T00:01:29.78Z'}</td>\n",
       "      <td>45427.0</td>\n",
       "      <td>{'$date': '2023-01-24T00:00:00Z'}</td>\n",
       "      <td>NaN</td>\n",
       "      <td>GOVUP</td>\n",
       "      <td>203001</td>\n",
       "      <td>{'$date': '2023-01-01T00:01:28.567Z'}</td>\n",
       "      <td>GOVUP/E/2023/0000001</td>\n",
       "      <td>NaN</td>\n",
       "      <td>NaN</td>\n",
       "      <td>M</td>\n",
       "      <td>UP</td>\n",
       "      <td>XAXPX/X/X0X2X4X0X0\\tREGARDING CBCID INSPECTION...</td>\n",
       "      <td>NaN</td>\n",
       "    </tr>\n",
       "  </tbody>\n",
       "</table>\n",
       "</div>"
      ],
      "text/plain": [
       "                    _id  CategoryV7                              DiaryDate  \\\n",
       "0  MORLY/E/2023/0000001     11578.0  {'$date': '2023-01-01T00:00:19.977Z'}   \n",
       "1  GOVUP/E/2023/0000001         NaN   {'$date': '2023-01-01T00:01:29.78Z'}   \n",
       "\n",
       "   UserCode                       closing_date          dist_name org_code  \\\n",
       "0  110124.0  {'$date': '2023-01-04T00:00:00Z'}  North 24 Parganas    MORLY   \n",
       "1   45427.0  {'$date': '2023-01-24T00:00:00Z'}                NaN    GOVUP   \n",
       "\n",
       "  pincode                             recvd_date       registration_no  \\\n",
       "0  700130  {'$date': '2023-01-01T00:00:19.977Z'}  MORLY/E/2023/0000001   \n",
       "1  203001  {'$date': '2023-01-01T00:01:28.567Z'}  GOVUP/E/2023/0000001   \n",
       "\n",
       "                                        remarks_text  \\\n",
       "0    As per railway record,  there is no authoriz...   \n",
       "1                                                NaN   \n",
       "\n",
       "                     resolution_date sex state  \\\n",
       "0  {'$date': '2023-01-04T00:00:00Z'}   M    WB   \n",
       "1                                NaN   M    UP   \n",
       "\n",
       "                                subject_content_text v7_target  \n",
       "0  Railways, ( Railway Board) >> Miscellaneous\\r\\...        No  \n",
       "1  XAXPX/X/X0X2X4X0X0\\tREGARDING CBCID INSPECTION...       NaN  "
      ]
     },
     "execution_count": 171,
     "metadata": {},
     "output_type": "execute_result"
    }
   ],
   "source": [
    "# CategoryV7 = code(categorycode_mapping_df) \n",
    "# registration_no = Ticket no \n",
    "# subject_content_text = User has described the problem Tamil, Gujrati, English, Hindi, Hinglish, Mix of these lang \n",
    "\n",
    "print(no_pii_grievance_df.columns)\n",
    "no_pii_grievance_df.head(2)"
   ]
  },
  {
   "cell_type": "code",
   "execution_count": 172,
   "metadata": {},
   "outputs": [
    {
     "data": {
      "text/html": [
       "<div>\n",
       "<style scoped>\n",
       "    .dataframe tbody tr th:only-of-type {\n",
       "        vertical-align: middle;\n",
       "    }\n",
       "\n",
       "    .dataframe tbody tr th {\n",
       "        vertical-align: top;\n",
       "    }\n",
       "\n",
       "    .dataframe thead th {\n",
       "        text-align: right;\n",
       "    }\n",
       "</style>\n",
       "<table border=\"1\" class=\"dataframe\">\n",
       "  <thead>\n",
       "    <tr style=\"text-align: right;\">\n",
       "      <th></th>\n",
       "      <th>CategoryV7</th>\n",
       "      <th>registration_no</th>\n",
       "      <th>subject_content_text</th>\n",
       "    </tr>\n",
       "  </thead>\n",
       "  <tbody>\n",
       "    <tr>\n",
       "      <th>0</th>\n",
       "      <td>11578.0</td>\n",
       "      <td>MORLY/E/2023/0000001</td>\n",
       "      <td>Railways, ( Railway Board) &gt;&gt; Miscellaneous\\r\\...</td>\n",
       "    </tr>\n",
       "    <tr>\n",
       "      <th>1</th>\n",
       "      <td>NaN</td>\n",
       "      <td>GOVUP/E/2023/0000001</td>\n",
       "      <td>XAXPX/X/X0X2X4X0X0\\tREGARDING CBCID INSPECTION...</td>\n",
       "    </tr>\n",
       "  </tbody>\n",
       "</table>\n",
       "</div>"
      ],
      "text/plain": [
       "   CategoryV7       registration_no  \\\n",
       "0     11578.0  MORLY/E/2023/0000001   \n",
       "1         NaN  GOVUP/E/2023/0000001   \n",
       "\n",
       "                                subject_content_text  \n",
       "0  Railways, ( Railway Board) >> Miscellaneous\\r\\...  \n",
       "1  XAXPX/X/X0X2X4X0X0\\tREGARDING CBCID INSPECTION...  "
      ]
     },
     "execution_count": 172,
     "metadata": {},
     "output_type": "execute_result"
    }
   ],
   "source": [
    "# We find 3 columns to be effective for todays exercises which text \n",
    "selected_no_pii_grievance_df = no_pii_grievance_df[['CategoryV7', 'registration_no', 'subject_content_text']]\n",
    "selected_no_pii_grievance_df.head(2) # New dataframe = table with 3 columns "
   ]
  },
  {
   "cell_type": "code",
   "execution_count": 173,
   "metadata": {},
   "outputs": [
    {
     "name": "stdout",
     "output_type": "stream",
     "text": [
      "Total rows 175784\n"
     ]
    }
   ],
   "source": [
    "print(\"Total rows\", selected_no_pii_grievance_df.shape[0]) # Checking rows in the dataframe "
   ]
  },
  {
   "cell_type": "code",
   "execution_count": 174,
   "metadata": {},
   "outputs": [
    {
     "name": "stdout",
     "output_type": "stream",
     "text": [
      "Rows dropped 63622\n"
     ]
    }
   ],
   "source": [
    "rows_before = selected_no_pii_grievance_df.shape[0] # counting the rows before \n",
    "# Drop the rows with null values \n",
    "selected_no_pii_grievance_clean_df = selected_no_pii_grievance_df.dropna()  \n",
    "\n",
    "rows_after = selected_no_pii_grievance_clean_df.shape[0] # after the operation \n",
    "\n",
    "rows_dropped = rows_before = rows_after\n",
    "\n",
    "print(\"Rows dropped\", rows_dropped) # How many rows were dropped "
   ]
  },
  {
   "cell_type": "code",
   "execution_count": 175,
   "metadata": {},
   "outputs": [
    {
     "name": "stdout",
     "output_type": "stream",
     "text": [
      "3251\n"
     ]
    }
   ],
   "source": [
    "# Remove the duplicates here \n",
    "duplicated_mask = selected_no_pii_grievance_clean_df['subject_content_text'].duplicated() # Counting the duplicates \n",
    "dupliacte_count = duplicated_mask.sum()\n",
    "print(dupliacte_count) # Count the duplicates"
   ]
  },
  {
   "cell_type": "code",
   "execution_count": 176,
   "metadata": {},
   "outputs": [
    {
     "data": {
      "text/html": [
       "<div>\n",
       "<style scoped>\n",
       "    .dataframe tbody tr th:only-of-type {\n",
       "        vertical-align: middle;\n",
       "    }\n",
       "\n",
       "    .dataframe tbody tr th {\n",
       "        vertical-align: top;\n",
       "    }\n",
       "\n",
       "    .dataframe thead th {\n",
       "        text-align: right;\n",
       "    }\n",
       "</style>\n",
       "<table border=\"1\" class=\"dataframe\">\n",
       "  <thead>\n",
       "    <tr style=\"text-align: right;\">\n",
       "      <th></th>\n",
       "      <th>CategoryV7</th>\n",
       "      <th>registration_no</th>\n",
       "      <th>subject_content_text</th>\n",
       "    </tr>\n",
       "  </thead>\n",
       "  <tbody>\n",
       "    <tr>\n",
       "      <th>0</th>\n",
       "      <td>11578.0</td>\n",
       "      <td>MORLY/E/2023/0000001</td>\n",
       "      <td>Railways, ( Railway Board) &gt;&gt; Miscellaneous\\r\\...</td>\n",
       "    </tr>\n",
       "    <tr>\n",
       "      <th>2</th>\n",
       "      <td>2369.0</td>\n",
       "      <td>MOLBR/E/2023/0000001</td>\n",
       "      <td>Labour and Employment &gt;&gt; PF Withdrawal &gt;&gt; Othe...</td>\n",
       "    </tr>\n",
       "    <tr>\n",
       "      <th>3</th>\n",
       "      <td>2379.0</td>\n",
       "      <td>MOLBR/E/2023/0000002</td>\n",
       "      <td>Labour and Employment &gt;&gt; Pension &gt;&gt; Others\\r\\n...</td>\n",
       "    </tr>\n",
       "    <tr>\n",
       "      <th>6</th>\n",
       "      <td>20493.0</td>\n",
       "      <td>MODEF/E/2023/0000001</td>\n",
       "      <td>Defence &gt;&gt; Canteen Stores Depot related &gt;&gt; Non...</td>\n",
       "    </tr>\n",
       "    <tr>\n",
       "      <th>7</th>\n",
       "      <td>5270.0</td>\n",
       "      <td>DEPOJ/E/2023/0000002</td>\n",
       "      <td>Justice &gt;&gt; Others\\r\\n-----------------------\\r...</td>\n",
       "    </tr>\n",
       "  </tbody>\n",
       "</table>\n",
       "</div>"
      ],
      "text/plain": [
       "   CategoryV7       registration_no  \\\n",
       "0     11578.0  MORLY/E/2023/0000001   \n",
       "2      2369.0  MOLBR/E/2023/0000001   \n",
       "3      2379.0  MOLBR/E/2023/0000002   \n",
       "6     20493.0  MODEF/E/2023/0000001   \n",
       "7      5270.0  DEPOJ/E/2023/0000002   \n",
       "\n",
       "                                subject_content_text  \n",
       "0  Railways, ( Railway Board) >> Miscellaneous\\r\\...  \n",
       "2  Labour and Employment >> PF Withdrawal >> Othe...  \n",
       "3  Labour and Employment >> Pension >> Others\\r\\n...  \n",
       "6  Defence >> Canteen Stores Depot related >> Non...  \n",
       "7  Justice >> Others\\r\\n-----------------------\\r...  "
      ]
     },
     "execution_count": 176,
     "metadata": {},
     "output_type": "execute_result"
    }
   ],
   "source": [
    "selected_no_pii_grievance_dropduplicate_df = selected_no_pii_grievance_clean_df.drop_duplicates(subset=['subject_content_text'])  # Drop the duplicates here \n",
    "selected_no_pii_grievance_dropduplicate_df.head()"
   ]
  },
  {
   "cell_type": "code",
   "execution_count": 177,
   "metadata": {},
   "outputs": [
    {
     "name": "stdout",
     "output_type": "stream",
     "text": [
      "0\n"
     ]
    }
   ],
   "source": [
    "# Checking if the any duplicates are there or not \n",
    "duplicated_mask = selected_no_pii_grievance_dropduplicate_df['subject_content_text'].duplicated()\n",
    "duplicate_count = duplicated_mask.sum()\n",
    "print(duplicate_count)"
   ]
  },
  {
   "cell_type": "code",
   "execution_count": 178,
   "metadata": {},
   "outputs": [
    {
     "data": {
      "text/html": [
       "<div>\n",
       "<style scoped>\n",
       "    .dataframe tbody tr th:only-of-type {\n",
       "        vertical-align: middle;\n",
       "    }\n",
       "\n",
       "    .dataframe tbody tr th {\n",
       "        vertical-align: top;\n",
       "    }\n",
       "\n",
       "    .dataframe thead th {\n",
       "        text-align: right;\n",
       "    }\n",
       "</style>\n",
       "<table border=\"1\" class=\"dataframe\">\n",
       "  <thead>\n",
       "    <tr style=\"text-align: right;\">\n",
       "      <th></th>\n",
       "      <th>CategoryV7</th>\n",
       "      <th>registration_no</th>\n",
       "      <th>subject_content_text</th>\n",
       "    </tr>\n",
       "  </thead>\n",
       "  <tbody>\n",
       "    <tr>\n",
       "      <th>0</th>\n",
       "      <td>11578.0</td>\n",
       "      <td>MORLY/E/2023/0000001</td>\n",
       "      <td>Railways, ( Railway Board) &gt;&gt; Miscellaneous\\r\\...</td>\n",
       "    </tr>\n",
       "    <tr>\n",
       "      <th>2</th>\n",
       "      <td>2369.0</td>\n",
       "      <td>MOLBR/E/2023/0000001</td>\n",
       "      <td>Labour and Employment &gt;&gt; PF Withdrawal &gt;&gt; Othe...</td>\n",
       "    </tr>\n",
       "    <tr>\n",
       "      <th>3</th>\n",
       "      <td>2379.0</td>\n",
       "      <td>MOLBR/E/2023/0000002</td>\n",
       "      <td>Labour and Employment &gt;&gt; Pension &gt;&gt; Others\\r\\n...</td>\n",
       "    </tr>\n",
       "    <tr>\n",
       "      <th>6</th>\n",
       "      <td>20493.0</td>\n",
       "      <td>MODEF/E/2023/0000001</td>\n",
       "      <td>Defence &gt;&gt; Canteen Stores Depot related &gt;&gt; Non...</td>\n",
       "    </tr>\n",
       "    <tr>\n",
       "      <th>7</th>\n",
       "      <td>5270.0</td>\n",
       "      <td>DEPOJ/E/2023/0000002</td>\n",
       "      <td>Justice &gt;&gt; Others\\r\\n-----------------------\\r...</td>\n",
       "    </tr>\n",
       "  </tbody>\n",
       "</table>\n",
       "</div>"
      ],
      "text/plain": [
       "   CategoryV7       registration_no  \\\n",
       "0     11578.0  MORLY/E/2023/0000001   \n",
       "2      2369.0  MOLBR/E/2023/0000001   \n",
       "3      2379.0  MOLBR/E/2023/0000002   \n",
       "6     20493.0  MODEF/E/2023/0000001   \n",
       "7      5270.0  DEPOJ/E/2023/0000002   \n",
       "\n",
       "                                subject_content_text  \n",
       "0  Railways, ( Railway Board) >> Miscellaneous\\r\\...  \n",
       "2  Labour and Employment >> PF Withdrawal >> Othe...  \n",
       "3  Labour and Employment >> Pension >> Others\\r\\n...  \n",
       "6  Defence >> Canteen Stores Depot related >> Non...  \n",
       "7  Justice >> Others\\r\\n-----------------------\\r...  "
      ]
     },
     "execution_count": 178,
     "metadata": {},
     "output_type": "execute_result"
    }
   ],
   "source": [
    "# Just look at the data \n",
    "selected_no_pii_grievance_dropduplicate_df.head()"
   ]
  },
  {
   "cell_type": "markdown",
   "metadata": {},
   "source": [
    "#### Key Phrase Extraction"
   ]
  },
  {
   "cell_type": "code",
   "execution_count": 179,
   "metadata": {},
   "outputs": [],
   "source": [
    "# Selecting only 10 rows only to keep cost minimum of Azure AI Services.\n",
    "selected_no_pii_grievance_10_df = selected_no_pii_grievance_dropduplicate_df.iloc[:10]"
   ]
  },
  {
   "cell_type": "code",
   "execution_count": 180,
   "metadata": {},
   "outputs": [
    {
     "data": {
      "text/html": [
       "<div>\n",
       "<style scoped>\n",
       "    .dataframe tbody tr th:only-of-type {\n",
       "        vertical-align: middle;\n",
       "    }\n",
       "\n",
       "    .dataframe tbody tr th {\n",
       "        vertical-align: top;\n",
       "    }\n",
       "\n",
       "    .dataframe thead th {\n",
       "        text-align: right;\n",
       "    }\n",
       "</style>\n",
       "<table border=\"1\" class=\"dataframe\">\n",
       "  <thead>\n",
       "    <tr style=\"text-align: right;\">\n",
       "      <th></th>\n",
       "      <th>CategoryV7</th>\n",
       "      <th>registration_no</th>\n",
       "      <th>subject_content_text</th>\n",
       "    </tr>\n",
       "  </thead>\n",
       "  <tbody>\n",
       "    <tr>\n",
       "      <th>0</th>\n",
       "      <td>11578.0</td>\n",
       "      <td>MORLY/E/2023/0000001</td>\n",
       "      <td>Railways, ( Railway Board) &gt;&gt; Miscellaneous\\r\\...</td>\n",
       "    </tr>\n",
       "    <tr>\n",
       "      <th>2</th>\n",
       "      <td>2369.0</td>\n",
       "      <td>MOLBR/E/2023/0000001</td>\n",
       "      <td>Labour and Employment &gt;&gt; PF Withdrawal &gt;&gt; Othe...</td>\n",
       "    </tr>\n",
       "    <tr>\n",
       "      <th>3</th>\n",
       "      <td>2379.0</td>\n",
       "      <td>MOLBR/E/2023/0000002</td>\n",
       "      <td>Labour and Employment &gt;&gt; Pension &gt;&gt; Others\\r\\n...</td>\n",
       "    </tr>\n",
       "    <tr>\n",
       "      <th>6</th>\n",
       "      <td>20493.0</td>\n",
       "      <td>MODEF/E/2023/0000001</td>\n",
       "      <td>Defence &gt;&gt; Canteen Stores Depot related &gt;&gt; Non...</td>\n",
       "    </tr>\n",
       "    <tr>\n",
       "      <th>7</th>\n",
       "      <td>5270.0</td>\n",
       "      <td>DEPOJ/E/2023/0000002</td>\n",
       "      <td>Justice &gt;&gt; Others\\r\\n-----------------------\\r...</td>\n",
       "    </tr>\n",
       "  </tbody>\n",
       "</table>\n",
       "</div>"
      ],
      "text/plain": [
       "   CategoryV7       registration_no  \\\n",
       "0     11578.0  MORLY/E/2023/0000001   \n",
       "2      2369.0  MOLBR/E/2023/0000001   \n",
       "3      2379.0  MOLBR/E/2023/0000002   \n",
       "6     20493.0  MODEF/E/2023/0000001   \n",
       "7      5270.0  DEPOJ/E/2023/0000002   \n",
       "\n",
       "                                subject_content_text  \n",
       "0  Railways, ( Railway Board) >> Miscellaneous\\r\\...  \n",
       "2  Labour and Employment >> PF Withdrawal >> Othe...  \n",
       "3  Labour and Employment >> Pension >> Others\\r\\n...  \n",
       "6  Defence >> Canteen Stores Depot related >> Non...  \n",
       "7  Justice >> Others\\r\\n-----------------------\\r...  "
      ]
     },
     "execution_count": 180,
     "metadata": {},
     "output_type": "execute_result"
    }
   ],
   "source": [
    "selected_no_pii_grievance_10_df.head()"
   ]
  },
  {
   "cell_type": "code",
   "execution_count": 181,
   "metadata": {},
   "outputs": [],
   "source": [
    "import os\n",
    "from dotenv import load_dotenv\n",
    "from azure.core.credentials import AzureKeyCredential\n",
    "from azure.ai.textanalytics import TextAnalyticsClient"
   ]
  },
  {
   "cell_type": "code",
   "execution_count": 182,
   "metadata": {},
   "outputs": [],
   "source": [
    "load_dotenv()\n",
    "ai_service_endpoint = os.getenv('AI_SERVICE_ENDPOINT')\n",
    "ai_service_key = os.getenv('AI_SERVICE_KEY')\n",
    "\n",
    "credential = AzureKeyCredential(ai_service_key)\n",
    "ai_client = TextAnalyticsClient(endpoint=ai_service_endpoint, credential=credential) "
   ]
  },
  {
   "cell_type": "code",
   "execution_count": 183,
   "metadata": {},
   "outputs": [],
   "source": [
    "def extract_key_phrases(df, column_name): # passing dataframe, column_name \n",
    "    documents = [{\"id\":str(idx), \"text\": text} for idx, text in df[column_name].iteritems()]\n",
    "\n",
    "    response = ai_client.extract_key_phrases(documents=documents) # SDK = extract_key_phrases()\n",
    "\n",
    "    key_phrases = []\n",
    "\n",
    "    for result in response:\n",
    "        if not result.is_error:\n",
    "            key_phrases.append(result.key_phrases)\n",
    "\n",
    "        else:\n",
    "            key_phrases.append(\"error\")\n",
    "\n",
    "    return key_phrases"
   ]
  },
  {
   "cell_type": "code",
   "execution_count": 184,
   "metadata": {},
   "outputs": [
    {
     "name": "stderr",
     "output_type": "stream",
     "text": [
      "C:\\Users\\shivamsharma\\AppData\\Local\\Temp\\ipykernel_40304\\1786272108.py:2: FutureWarning: iteritems is deprecated and will be removed in a future version. Use .items instead.\n",
      "  documents = [{\"id\":str(idx), \"text\": text} for idx, text in df[column_name].iteritems()]\n"
     ]
    }
   ],
   "source": [
    "selected_grievance_keyphrases_10_df = selected_no_pii_grievance_10_df.copy() # Where we are using .copy() to make a copy of the original df  \n",
    "selected_grievance_keyphrases_10_df[\"keyphrases\"] = extract_key_phrases(selected_no_pii_grievance_10_df, 'subject_content_text') # Use the extract key phrases "
   ]
  },
  {
   "cell_type": "code",
   "execution_count": 185,
   "metadata": {},
   "outputs": [
    {
     "data": {
      "text/html": [
       "<div>\n",
       "<style scoped>\n",
       "    .dataframe tbody tr th:only-of-type {\n",
       "        vertical-align: middle;\n",
       "    }\n",
       "\n",
       "    .dataframe tbody tr th {\n",
       "        vertical-align: top;\n",
       "    }\n",
       "\n",
       "    .dataframe thead th {\n",
       "        text-align: right;\n",
       "    }\n",
       "</style>\n",
       "<table border=\"1\" class=\"dataframe\">\n",
       "  <thead>\n",
       "    <tr style=\"text-align: right;\">\n",
       "      <th></th>\n",
       "      <th>CategoryV7</th>\n",
       "      <th>registration_no</th>\n",
       "      <th>subject_content_text</th>\n",
       "      <th>keyphrases</th>\n",
       "    </tr>\n",
       "  </thead>\n",
       "  <tbody>\n",
       "    <tr>\n",
       "      <th>0</th>\n",
       "      <td>11578.0</td>\n",
       "      <td>MORLY/E/2023/0000001</td>\n",
       "      <td>Railways, ( Railway Board) &gt;&gt; Miscellaneous\\r\\...</td>\n",
       "      <td>[Miscellaneous Railway Board/ Zone, PSU/ PU/ O...</td>\n",
       "    </tr>\n",
       "    <tr>\n",
       "      <th>2</th>\n",
       "      <td>2369.0</td>\n",
       "      <td>MOLBR/E/2023/0000001</td>\n",
       "      <td>Labour and Employment &gt;&gt; PF Withdrawal &gt;&gt; Othe...</td>\n",
       "      <td>[M/S SKECHERS SOUTH ASIA PVT LTD, attachment p...</td>\n",
       "    </tr>\n",
       "    <tr>\n",
       "      <th>3</th>\n",
       "      <td>2379.0</td>\n",
       "      <td>MOLBR/E/2023/0000002</td>\n",
       "      <td>Labour and Employment &gt;&gt; Pension &gt;&gt; Others\\r\\n...</td>\n",
       "      <td>[SAAL PURE HUYE HAI FIR  BHI MERA EPS ME XOXTX...</td>\n",
       "    </tr>\n",
       "    <tr>\n",
       "      <th>6</th>\n",
       "      <td>20493.0</td>\n",
       "      <td>MODEF/E/2023/0000001</td>\n",
       "      <td>Defence &gt;&gt; Canteen Stores Depot related &gt;&gt; Non...</td>\n",
       "      <td>[son grocery dependent card, dependent/authori...</td>\n",
       "    </tr>\n",
       "    <tr>\n",
       "      <th>7</th>\n",
       "      <td>5270.0</td>\n",
       "      <td>DEPOJ/E/2023/0000002</td>\n",
       "      <td>Justice &gt;&gt; Others\\r\\n-----------------------\\r...</td>\n",
       "      <td>[public servant, Police station, Justice, Othe...</td>\n",
       "    </tr>\n",
       "  </tbody>\n",
       "</table>\n",
       "</div>"
      ],
      "text/plain": [
       "   CategoryV7       registration_no  \\\n",
       "0     11578.0  MORLY/E/2023/0000001   \n",
       "2      2369.0  MOLBR/E/2023/0000001   \n",
       "3      2379.0  MOLBR/E/2023/0000002   \n",
       "6     20493.0  MODEF/E/2023/0000001   \n",
       "7      5270.0  DEPOJ/E/2023/0000002   \n",
       "\n",
       "                                subject_content_text  \\\n",
       "0  Railways, ( Railway Board) >> Miscellaneous\\r\\...   \n",
       "2  Labour and Employment >> PF Withdrawal >> Othe...   \n",
       "3  Labour and Employment >> Pension >> Others\\r\\n...   \n",
       "6  Defence >> Canteen Stores Depot related >> Non...   \n",
       "7  Justice >> Others\\r\\n-----------------------\\r...   \n",
       "\n",
       "                                          keyphrases  \n",
       "0  [Miscellaneous Railway Board/ Zone, PSU/ PU/ O...  \n",
       "2  [M/S SKECHERS SOUTH ASIA PVT LTD, attachment p...  \n",
       "3  [SAAL PURE HUYE HAI FIR  BHI MERA EPS ME XOXTX...  \n",
       "6  [son grocery dependent card, dependent/authori...  \n",
       "7  [public servant, Police station, Justice, Othe...  "
      ]
     },
     "execution_count": 185,
     "metadata": {},
     "output_type": "execute_result"
    }
   ],
   "source": [
    "selected_grievance_keyphrases_10_df.head()"
   ]
  },
  {
   "cell_type": "code",
   "execution_count": 186,
   "metadata": {},
   "outputs": [
    {
     "name": "stdout",
     "output_type": "stream",
     "text": [
      "Row 0: ['Miscellaneous Railway Board/ Zone', 'PSU/ PU/ Office', 'SDAH  ER Location', 'yrain,common people', 'The Railway Board', 'temporary railway line', 'bad condition', 'great danger', 'Bhaskar  Mitra', 'Madhyamgram station', 'Railways', 'stones', 'side', 'passengers', 'time', 'matter', 'place']\n",
      "\n",
      "Row 2: ['M/S SKECHERS SOUTH ASIA PVT LTD', 'attachment pdf file', 'Scheme Certificate Number', 'offline final settlement', 'PF Account No.', 'pf final settlement', 'PF number', 'PF Withdrawal', 'PF Office', 'UAN No.', 'PPO No.', 'Regional Office', 'Thane II', 'RUDRARAM RAJU', 'technical issues', 'Epfo department', 'Dear sir', 'company name', 'Labour', 'Employment', 'Others', 'Address', 'Establishment', 'madam', 'courier']\n",
      "\n",
      "Row 3: ['SAAL PURE HUYE HAI FIR  BHI MERA EPS ME XOXTXIXUXIXN HUA HAI BULKI MERA', 'SAAL COMPLETED  KE BAAD WALA EPS AMMOUNT KAISE WITHDRWAL KARR SAKTA HU', '5 LOGO KA AMMOUNT WAISE HEE FASA HUA HAI SIR PLZ SUGGETION', 'SAAL KAM KIYA LEKIN SIR MUZE WAHA PERR', 'KAISE KYA KARR SAKTA HU MERE ALAWA', 'DEAR SIR MAI SHRI HEMANT KUMAR CHAVHAN', 'XOXTXIXUXIXN NAHI  HONA CHAHIYE THA ABHI', '58 SAAL KE BAAD EPFO RULLES', 'MS KANWAR NARENDER SINGH SECURITY YAHA', 'MY EPS AMMOUNT WITHDRWAL', 'KE NUSAR EPS ME', 'AAPKE TARAF SE SUGGETION', 'DIJIYE KI MAI', 'Scheme Certificate Number', 'KO HEE', 'PF Account No.', 'PF Office', 'UAN No.', 'PPO No.', 'Regional Office', 'SE LEKAR', 'Labour', 'Employment', 'Pension', 'Others', 'Name', 'Address', 'Establishment', 'XUXPXNXXXXXXXXXXXXXXXXXXXX', 'Pune', 'JANUARY', 'JUNE 2022', 'TAK']\n",
      "\n",
      "Row 6: ['son grocery dependent card', 'dependent/authorized card holder', 'Canteen Stores Depot', 'Late Ramsingh Army', 'Non entry', 'CSD unit', 'Chenab brigade', 'Sir i', 'Plz sir', 'Defence', 'Name', 'widow', 'age', 'details']\n",
      "\n",
      "Row 7: ['public servant', 'Police station', 'Justice', 'Others', 'இது Sp', 'ாதம் Camera', 'ப', 'ரும்', 'ீதி', 'அரசர்க', '100', 'த்திர', '்தில', '்று', 'ன்னை', 'கொட', 'ரமாக', 'தாக்கி', 'தை', '்த்த', '்கிலி', 'சாட்சி', 'றுதி', '்து', 'தனை', 'ரி', 'திர்', 'ீச்சல்', 'அடி', 'க்கும்', 'அவனின்', 'ுக்கு', 'ுன்னாலும்', '்டாமவன்', '்டாமவனு', 'ேட்', 'ற்கு', 'ான்', '்டாமவனே', 'துமக்', 'ிடம்', 'ாது', 'சொல்லி', 'ீவ', 'வே', '்டி', '்றம்ல', '்சில', 'னக்கு', '்சம்', 'ரலனா', 'ாதி', 'கேவலமா', 'றினேன்', 'கார', '்டை', '்னி', 'ாகு', 'முன்னாடி', '்தா', 'மாட்டேன்', 'மிரா', 'சொன்னவன்', 'ார்', 'ானம்', 'மயிர்', 'டவடிக்கை']\n",
      "\n",
      "Row 8: ['I Danapuneni Sreekanth Rao', 'Sreekanth Rao Danapuneni ACCOUNT', '5 crores Indian rupees', 'ACCOUNT NAME', 'Bank ACCOUNT', 'Indian embassy', 'indian Government', 'External Affairs', 'tution fee', 'Indians safety', 'cpgrams portal', 'permanent residency', 'IFSC CODE', 'Bank Details', 'foreign country', 'New-Zealand Government', 'INDIA BRANCH', 'loss Ministry', 'STATE BANK', 'Others', 'college', 'services', 'difficulties', 'mails', 'years', '7000 grievances', 'Dollars', 'NZD', 'money', 'MANTHANI', 'TELANGANA', 'Thanks', 'regards']\n",
      "\n",
      "Row 9: ['Pradhan Mantri Gram Sadak Yojana', 'Pradhan Mantri Grama Sadak Yojana', 'undeveloped hill area cum', 'inter remote area', 'G.P Headquarters', 'Honourable Minister Department', 'Honourable Secretary', 'Rural Development', 'Kaladu Via', 'unconnected village', 'New Delhi', 'Grievance-Dear Sir', 'Bamprada Gramapanchyat', 'Barkote Block', 'Deogarh District', 'great step', 'new road', 'communication facility', 'PMGSY roads', 'Complaints', 'Request', 'construction', 'Name', 'Government', 'India', 'scheme', 'Maoist', 'projects']\n",
      "\n",
      "Row 10: ['undeveloped hill cum inter remote area', 'new Reliance Jio-4G/5G cum', 'Universal Service Obligation Fund', 'Honourable Minister Department', 'BSNL-3G/4G/5G Mobile Tower', 'other business personalities', 'other online services', 'mainstream area', 'other part', 'online activities', 'fire services', 'digital services', 'Dear Sir', 'urgent attention', 'Bamprada Gramapanchyat', 'Barkote Block', 'Deogarh District', 'Odisha State', 'long time', 'network connectivity', 'network problem', 'emergency time', 'particular place', 'Kaladu village', 'internet penetration', 'digital India', 'underprivileged people', 'Telecommunications', 'Suggestions', 'Others', 'Government', 'Grievance', 'country', 'residents', 'students', 'banking', 'problems', 'ambulance', 'lack', 'facilities', 'rest', 'scheme', 'USOF', 'advantages']\n",
      "\n",
      "Row 12: ['Other National issues', 'CBODT CENTRAL BOARD', 'HAPPY NEW YEAR', 'HONOURABLE MINISTER', 'CASE ATTACHED', 'DIRECT TAXES', 'Home Affairs', 'Award', 'Others', 'SIR', 'GOVERNMENT', 'INDIA', 'DELHI', 'BLESS', 'EMPLOYEMENT']\n",
      "\n",
      "Row 13: ['Telecommunication cum internet facility', 'Panchayat Development Related  Matter', 'undeveloped hill cum', 'Honourable Principal Secretary', 'Drinking Water facility', 'unfortunate matter', 'Panchayati Raj', 'Basic facilities', 'New Delhi', 'Grievance-Dear Sir', 'regular availability', 'Gambharibhuin village', 'Sado Gramapanchayat', 'Tileibani Block', 'Deogarh District', 'remote area', 'good communication', 'Regular Road', 'villages', 'Odisha', 'Department', 'Government', 'India', '76 years', 'Electricity', 'Health', 'Education', 'sensitive', 'steps']\n",
      "\n"
     ]
    }
   ],
   "source": [
    "# Printing few of the key phases if the service is going a good job on our data or not \n",
    "\n",
    "for index, row in selected_grievance_keyphrases_10_df.iterrows():\n",
    "    print(f\"Row {index}: {row['keyphrases']}\\n\")"
   ]
  },
  {
   "cell_type": "markdown",
   "metadata": {},
   "source": [
    "#### Detect PII"
   ]
  },
  {
   "cell_type": "code",
   "execution_count": 187,
   "metadata": {},
   "outputs": [],
   "source": [
    "# Every azure AI service will have its limits of howe many rows of a table can be passed in one API call.  \n",
    "# 5 rows/API \n",
    "\n",
    "from math import ceil \n",
    "\n",
    "def detect_pii(df, column_name):\n",
    "\n",
    "    max_rows_per_batch = 5 # Creating batches of 5 rows \n",
    "    num_batches = ceil(len(df) / max_rows_per_batch)\n",
    "    pii_entities = []\n",
    "\n",
    "    for batch_num in range(num_batches):\n",
    "        start_idx = batch_num * max_rows_per_batch\n",
    "        end_idx = start_idx + max_rows_per_batch\n",
    "\n",
    "        documents = [{\"id\": str(idx), \"text\": text } for idx, text in df[column_name].iloc[start_idx:end_idx].iteritems()] # Input list with dict of id:text structure \n",
    "\n",
    "        responses = ai_client.recognize_pii_entities(documents) #recognize_pii_entities() \n",
    "\n",
    "        for result in responses:\n",
    "            if not result.is_error:\n",
    "                entity_text = [entity.text for entity in result.entities]\n",
    "                pii_entities.append(\";\".join(entity_text)) # All the responses are here \n",
    "\n",
    "            else:\n",
    "                pii_entities.append(\"error in pii detection\") # errors also \n",
    "    return pii_entities\n"
   ]
  },
  {
   "cell_type": "code",
   "execution_count": 188,
   "metadata": {},
   "outputs": [
    {
     "name": "stderr",
     "output_type": "stream",
     "text": [
      "C:\\Users\\shivamsharma\\AppData\\Local\\Temp\\ipykernel_40304\\3031197284.py:13: FutureWarning: iteritems is deprecated and will be removed in a future version. Use .items instead.\n",
      "  documents = [{\"id\": str(idx), \"text\": text } for idx, text in df[column_name].iloc[start_idx:end_idx].iteritems()]\n"
     ]
    },
    {
     "data": {
      "text/html": [
       "<div>\n",
       "<style scoped>\n",
       "    .dataframe tbody tr th:only-of-type {\n",
       "        vertical-align: middle;\n",
       "    }\n",
       "\n",
       "    .dataframe tbody tr th {\n",
       "        vertical-align: top;\n",
       "    }\n",
       "\n",
       "    .dataframe thead th {\n",
       "        text-align: right;\n",
       "    }\n",
       "</style>\n",
       "<table border=\"1\" class=\"dataframe\">\n",
       "  <thead>\n",
       "    <tr style=\"text-align: right;\">\n",
       "      <th></th>\n",
       "      <th>CategoryV7</th>\n",
       "      <th>registration_no</th>\n",
       "      <th>subject_content_text</th>\n",
       "      <th>keyphrases</th>\n",
       "      <th>pii_detected</th>\n",
       "    </tr>\n",
       "  </thead>\n",
       "  <tbody>\n",
       "    <tr>\n",
       "      <th>0</th>\n",
       "      <td>11578.0</td>\n",
       "      <td>MORLY/E/2023/0000001</td>\n",
       "      <td>Railways, ( Railway Board) &gt;&gt; Miscellaneous\\r\\...</td>\n",
       "      <td>[Miscellaneous Railway Board/ Zone, PSU/ PU/ O...</td>\n",
       "      <td>Railway Board;Railway Board;Railway Board - Ra...</td>\n",
       "    </tr>\n",
       "    <tr>\n",
       "      <th>2</th>\n",
       "      <td>2369.0</td>\n",
       "      <td>MOLBR/E/2023/0000001</td>\n",
       "      <td>Labour and Employment &gt;&gt; PF Withdrawal &gt;&gt; Othe...</td>\n",
       "      <td>[M/S SKECHERS SOUTH ASIA PVT LTD, attachment p...</td>\n",
       "      <td>PF Withdrawal;M/S SKECHERS SOUTH ASIA PVT LTD;...</td>\n",
       "    </tr>\n",
       "    <tr>\n",
       "      <th>3</th>\n",
       "      <td>2379.0</td>\n",
       "      <td>MOLBR/E/2023/0000002</td>\n",
       "      <td>Labour and Employment &gt;&gt; Pension &gt;&gt; Others\\r\\n...</td>\n",
       "      <td>[SAAL PURE HUYE HAI FIR  BHI MERA EPS ME XOXTX...</td>\n",
       "      <td>KANWAR NARENDER SINGH;X0X5X4X7X7X0;PF;Office;H...</td>\n",
       "    </tr>\n",
       "  </tbody>\n",
       "</table>\n",
       "</div>"
      ],
      "text/plain": [
       "   CategoryV7       registration_no  \\\n",
       "0     11578.0  MORLY/E/2023/0000001   \n",
       "2      2369.0  MOLBR/E/2023/0000001   \n",
       "3      2379.0  MOLBR/E/2023/0000002   \n",
       "\n",
       "                                subject_content_text  \\\n",
       "0  Railways, ( Railway Board) >> Miscellaneous\\r\\...   \n",
       "2  Labour and Employment >> PF Withdrawal >> Othe...   \n",
       "3  Labour and Employment >> Pension >> Others\\r\\n...   \n",
       "\n",
       "                                          keyphrases  \\\n",
       "0  [Miscellaneous Railway Board/ Zone, PSU/ PU/ O...   \n",
       "2  [M/S SKECHERS SOUTH ASIA PVT LTD, attachment p...   \n",
       "3  [SAAL PURE HUYE HAI FIR  BHI MERA EPS ME XOXTX...   \n",
       "\n",
       "                                        pii_detected  \n",
       "0  Railway Board;Railway Board;Railway Board - Ra...  \n",
       "2  PF Withdrawal;M/S SKECHERS SOUTH ASIA PVT LTD;...  \n",
       "3  KANWAR NARENDER SINGH;X0X5X4X7X7X0;PF;Office;H...  "
      ]
     },
     "execution_count": 188,
     "metadata": {},
     "output_type": "execute_result"
    }
   ],
   "source": [
    "# Copy the data just in case \n",
    "selected_grievance_pii_detected_10_df = selected_grievance_keyphrases_10_df.copy() # Copy()\n",
    "selected_grievance_pii_detected_10_df[\"pii_detected\"] = detect_pii(selected_grievance_keyphrases_10_df, 'subject_content_text')\n",
    "selected_grievance_pii_detected_10_df.head(3)"
   ]
  },
  {
   "cell_type": "code",
   "execution_count": 189,
   "metadata": {},
   "outputs": [
    {
     "name": "stdout",
     "output_type": "stream",
     "text": [
      "KANWAR NARENDER SINGH;X0X5X4X7X7X0;PF;Office;HEMANT;CHAVHAN;KANWAR NARENDER SINGH;16 JANUARY 2018;30 JUNE 2022;02 JANUARY 2019\n"
     ]
    }
   ],
   "source": [
    "# We detected PII in the data which was given by gov after removing the PII. \n",
    " \n",
    "print(selected_grievance_pii_detected_10_df.loc[3, 'pii_detected'])"
   ]
  },
  {
   "cell_type": "markdown",
   "metadata": {},
   "source": [
    "#### Summarization"
   ]
  },
  {
   "cell_type": "code",
   "execution_count": 190,
   "metadata": {},
   "outputs": [],
   "source": [
    "# we are creating the summary of the problmes in the tickets \n",
    "\n",
    "from math import ceil\n",
    "\n",
    "def extract_summary(df, column_name):\n",
    "    max_num_of_rows = 5 # We are creating a batch of 5 rows/API call as Azure AI services have limits of how many records = rows / per  \n",
    "    num_batches = ceil(len(df) / max_num_of_rows)\n",
    "    summaries = []  \n",
    "\n",
    "    for batch_num in range(num_batches):\n",
    "        start_idx = batch_num * max_num_of_rows # Start of the index \n",
    "        end_idx = start_idx + max_num_of_rows # End in this batch \n",
    "\n",
    "        documents = [{\"id\": str(idx), \"text\": text} for idx, text in df[column_name].iloc[start_idx:end_idx].iteritems()]\n",
    "        \n",
    "        if documents:\n",
    "            poller = ai_client.begin_extract_summary(documents) # begin_extract_summary() \n",
    "            extract_summary_results = poller.result() # async() its doing a poll the API in Auzre if result is ready or not \n",
    "\n",
    "            for doc in extract_summary_results:\n",
    "                if not doc.is_error: # is_error\n",
    "                    summary_text = \" \".join([sentence.text for sentence in doc.sentences])\n",
    "                    summaries.append(summary_text)\n",
    "                else:\n",
    "                    # Handle errors, e.g., by appending an error message or None\n",
    "                    summaries.append(f\"Error in summary extraction: {doc.error.code} - {doc.error.message}\")\n",
    "\n",
    "    return summaries\n",
    "\n"
   ]
  },
  {
   "cell_type": "code",
   "execution_count": 191,
   "metadata": {},
   "outputs": [
    {
     "name": "stderr",
     "output_type": "stream",
     "text": [
      "C:\\Users\\shivamsharma\\AppData\\Local\\Temp\\ipykernel_40304\\4033143032.py:12: FutureWarning: iteritems is deprecated and will be removed in a future version. Use .items instead.\n",
      "  documents = [{\"id\": str(idx), \"text\": text} for idx, text in df[column_name].iloc[start_idx:end_idx].iteritems()]\n"
     ]
    },
    {
     "data": {
      "text/html": [
       "<div>\n",
       "<style scoped>\n",
       "    .dataframe tbody tr th:only-of-type {\n",
       "        vertical-align: middle;\n",
       "    }\n",
       "\n",
       "    .dataframe tbody tr th {\n",
       "        vertical-align: top;\n",
       "    }\n",
       "\n",
       "    .dataframe thead th {\n",
       "        text-align: right;\n",
       "    }\n",
       "</style>\n",
       "<table border=\"1\" class=\"dataframe\">\n",
       "  <thead>\n",
       "    <tr style=\"text-align: right;\">\n",
       "      <th></th>\n",
       "      <th>CategoryV7</th>\n",
       "      <th>registration_no</th>\n",
       "      <th>subject_content_text</th>\n",
       "      <th>keyphrases</th>\n",
       "      <th>pii_detected</th>\n",
       "      <th>summary</th>\n",
       "    </tr>\n",
       "  </thead>\n",
       "  <tbody>\n",
       "    <tr>\n",
       "      <th>0</th>\n",
       "      <td>11578.0</td>\n",
       "      <td>MORLY/E/2023/0000001</td>\n",
       "      <td>Railways, ( Railway Board) &gt;&gt; Miscellaneous\\r\\...</td>\n",
       "      <td>[Miscellaneous Railway Board/ Zone, PSU/ PU/ O...</td>\n",
       "      <td>Railway Board;Railway Board;Railway Board - Ra...</td>\n",
       "      <td>I  further to informing you that the temporary...</td>\n",
       "    </tr>\n",
       "    <tr>\n",
       "      <th>2</th>\n",
       "      <td>2369.0</td>\n",
       "      <td>MOLBR/E/2023/0000001</td>\n",
       "      <td>Labour and Employment &gt;&gt; PF Withdrawal &gt;&gt; Othe...</td>\n",
       "      <td>[M/S SKECHERS SOUTH ASIA PVT LTD, attachment p...</td>\n",
       "      <td>PF Withdrawal;M/S SKECHERS SOUTH ASIA PVT LTD;...</td>\n",
       "      <td>Labour and Employment &gt;&gt; PF Withdrawal &gt;&gt; Othe...</td>\n",
       "    </tr>\n",
       "    <tr>\n",
       "      <th>3</th>\n",
       "      <td>2379.0</td>\n",
       "      <td>MOLBR/E/2023/0000002</td>\n",
       "      <td>Labour and Employment &gt;&gt; Pension &gt;&gt; Others\\r\\n...</td>\n",
       "      <td>[SAAL PURE HUYE HAI FIR  BHI MERA EPS ME XOXTX...</td>\n",
       "      <td>KANWAR NARENDER SINGH;X0X5X4X7X7X0;PF;Office;H...</td>\n",
       "      <td>Labour and Employment &gt;&gt; Pension &gt;&gt; Others Nam...</td>\n",
       "    </tr>\n",
       "    <tr>\n",
       "      <th>6</th>\n",
       "      <td>20493.0</td>\n",
       "      <td>MODEF/E/2023/0000001</td>\n",
       "      <td>Defence &gt;&gt; Canteen Stores Depot related &gt;&gt; Non...</td>\n",
       "      <td>[son grocery dependent card, dependent/authori...</td>\n",
       "      <td>card holder;CSD;Chenab;widow;1495731;son;24;so...</td>\n",
       "      <td>Defence &gt;&gt; Canteen Stores Depot related &gt;&gt; Non...</td>\n",
       "    </tr>\n",
       "    <tr>\n",
       "      <th>7</th>\n",
       "      <td>5270.0</td>\n",
       "      <td>DEPOJ/E/2023/0000002</td>\n",
       "      <td>Justice &gt;&gt; Others\\r\\n-----------------------\\r...</td>\n",
       "      <td>[public servant, Police station, Justice, Othe...</td>\n",
       "      <td>Justice;நீதி அரசர்கள்;ஐயா;7/3/2020;றுப்பர்கள்;...</td>\n",
       "      <td>பெரும் மதிப்பிற்குரிய நீதி அரசர்கள் ஐயா, 100 ர...</td>\n",
       "    </tr>\n",
       "  </tbody>\n",
       "</table>\n",
       "</div>"
      ],
      "text/plain": [
       "   CategoryV7       registration_no  \\\n",
       "0     11578.0  MORLY/E/2023/0000001   \n",
       "2      2369.0  MOLBR/E/2023/0000001   \n",
       "3      2379.0  MOLBR/E/2023/0000002   \n",
       "6     20493.0  MODEF/E/2023/0000001   \n",
       "7      5270.0  DEPOJ/E/2023/0000002   \n",
       "\n",
       "                                subject_content_text  \\\n",
       "0  Railways, ( Railway Board) >> Miscellaneous\\r\\...   \n",
       "2  Labour and Employment >> PF Withdrawal >> Othe...   \n",
       "3  Labour and Employment >> Pension >> Others\\r\\n...   \n",
       "6  Defence >> Canteen Stores Depot related >> Non...   \n",
       "7  Justice >> Others\\r\\n-----------------------\\r...   \n",
       "\n",
       "                                          keyphrases  \\\n",
       "0  [Miscellaneous Railway Board/ Zone, PSU/ PU/ O...   \n",
       "2  [M/S SKECHERS SOUTH ASIA PVT LTD, attachment p...   \n",
       "3  [SAAL PURE HUYE HAI FIR  BHI MERA EPS ME XOXTX...   \n",
       "6  [son grocery dependent card, dependent/authori...   \n",
       "7  [public servant, Police station, Justice, Othe...   \n",
       "\n",
       "                                        pii_detected  \\\n",
       "0  Railway Board;Railway Board;Railway Board - Ra...   \n",
       "2  PF Withdrawal;M/S SKECHERS SOUTH ASIA PVT LTD;...   \n",
       "3  KANWAR NARENDER SINGH;X0X5X4X7X7X0;PF;Office;H...   \n",
       "6  card holder;CSD;Chenab;widow;1495731;son;24;so...   \n",
       "7  Justice;நீதி அரசர்கள்;ஐயா;7/3/2020;றுப்பர்கள்;...   \n",
       "\n",
       "                                             summary  \n",
       "0  I  further to informing you that the temporary...  \n",
       "2  Labour and Employment >> PF Withdrawal >> Othe...  \n",
       "3  Labour and Employment >> Pension >> Others Nam...  \n",
       "6  Defence >> Canteen Stores Depot related >> Non...  \n",
       "7  பெரும் மதிப்பிற்குரிய நீதி அரசர்கள் ஐயா, 100 ர...  "
      ]
     },
     "execution_count": 191,
     "metadata": {},
     "output_type": "execute_result"
    }
   ],
   "source": [
    "# Copy first \n",
    "selected_grievance_pii_with_summary_10_df = selected_grievance_pii_detected_10_df.copy()\n",
    "# Make a summary \n",
    "selected_grievance_pii_with_summary_10_df[\"summary\"] = extract_summary(selected_grievance_pii_detected_10_df, 'subject_content_text')\n",
    "selected_grievance_pii_with_summary_10_df.head()"
   ]
  },
  {
   "cell_type": "code",
   "execution_count": 192,
   "metadata": {},
   "outputs": [
    {
     "name": "stdout",
     "output_type": "stream",
     "text": [
      "Labour and Employment >> PF Withdrawal >> Others Sir apply for final settlement but some technical issues I&#39;m not able to apply online so i apply offline final settlement i already send courier pf office kindly check Sir i request you to Epfo department please settled my pf final settlement\n"
     ]
    }
   ],
   "source": [
    "print(selected_grievance_pii_with_summary_10_df.loc[2, 'summary'])"
   ]
  },
  {
   "cell_type": "markdown",
   "metadata": {},
   "source": [
    "#### Language Detection"
   ]
  },
  {
   "cell_type": "code",
   "execution_count": 193,
   "metadata": {},
   "outputs": [],
   "source": [
    "def detect_language(df, column_name):\n",
    "    max_rows_per_batch = 5\n",
    "    num_batches = ceil(len(df) / max_rows_per_batch)\n",
    "    detected_lang = []\n",
    "\n",
    "    for batch_num in range(num_batches):\n",
    "        start_idx = batch_num * max_rows_per_batch\n",
    "        end_idx = start_idx + max_rows_per_batch  \n",
    "\n",
    "        documents = [{\"id\": str(idx), \"text\": text} for idx, text in df[column_name].iloc[start_idx:end_idx].iteritems()]\n",
    "\n",
    "\n",
    "        responses = ai_client.detect_language(documents=documents)\n",
    "\n",
    "        for result in responses:\n",
    "            if not result.is_error:\n",
    "                detected_lang.append(result.primary_language.name)\n",
    "            else:\n",
    "                detected_lang.append(\"Error in language detection\")\n",
    "\n",
    "    return detected_lang"
   ]
  },
  {
   "cell_type": "code",
   "execution_count": 194,
   "metadata": {},
   "outputs": [
    {
     "name": "stderr",
     "output_type": "stream",
     "text": [
      "C:\\Users\\shivamsharma\\AppData\\Local\\Temp\\ipykernel_40304\\4118618141.py:10: FutureWarning: iteritems is deprecated and will be removed in a future version. Use .items instead.\n",
      "  documents = [{\"id\": str(idx), \"text\": text} for idx, text in df[column_name].iloc[start_idx:end_idx].iteritems()]\n"
     ]
    }
   ],
   "source": [
    "# Copy the original df \n",
    "selected_grievance_detected_language_10_df = selected_grievance_pii_detected_10_df.copy()\n",
    "# Lets the language \n",
    "selected_grievance_detected_language_10_df[\"detect_language\"] = detect_language(selected_grievance_pii_detected_10_df, 'subject_content_text')\n"
   ]
  },
  {
   "cell_type": "code",
   "execution_count": 195,
   "metadata": {},
   "outputs": [
    {
     "data": {
      "text/plain": [
       "0    English\n",
       "2    English\n",
       "3    English\n",
       "6    English\n",
       "7      Tamil\n",
       "Name: detect_language, dtype: object"
      ]
     },
     "execution_count": 195,
     "metadata": {},
     "output_type": "execute_result"
    }
   ],
   "source": [
    "# We have 1 rows with Tamil \n",
    "selected_grievance_detected_language_10_df[\"detect_language\"].head()"
   ]
  },
  {
   "cell_type": "markdown",
   "metadata": {},
   "source": [
    "#### Translate Text "
   ]
  },
  {
   "cell_type": "code",
   "execution_count": 196,
   "metadata": {},
   "outputs": [],
   "source": [
    "from azure.ai.translation.text import *\n",
    "from azure.ai.translation.text.models import InputTextItem\n",
    "from azure.ai.translation.text import TextTranslationClient\n"
   ]
  },
  {
   "cell_type": "code",
   "execution_count": 197,
   "metadata": {},
   "outputs": [],
   "source": [
    "load_dotenv()\n",
    "text_translator_key = os.getenv('TRANSLATOR_KEY') # Translator key \n",
    "text_translator_region = os.getenv('TRANSLATOR_REGION') # Translator region \n",
    "\n",
    "text_translator_credential = TranslatorCredential(text_translator_key, text_translator_region) # Keys \n",
    "text_translator_client = TextTranslationClient(text_translator_credential) # Client \n"
   ]
  },
  {
   "cell_type": "code",
   "execution_count": 198,
   "metadata": {},
   "outputs": [],
   "source": [
    "# selected_grievance_translated_10_df.drop(selected_grievance_translated_10_df.index, inplace=True)"
   ]
  },
  {
   "cell_type": "code",
   "execution_count": 199,
   "metadata": {},
   "outputs": [],
   "source": [
    "def translate_text(df, column_name, target_lang):\n",
    "    translated_texts = []  # List to hold the translated texts\n",
    "    for input_text in df[column_name]:\n",
    "        \n",
    "        input_text_elements = [InputTextItem(text=input_text)]  # Input tect goes here InputTextItem()\n",
    "\n",
    "        translation_response = text_translator_client.translate(content=input_text_elements, to=[target_lang])\n",
    "        \n",
    "        translation = translation_response[0] if translation_response else None\n",
    "        if translation:\n",
    "            translated_text = translation.translations[0].text\n",
    "            translated_texts.append(translated_text)\n",
    "        else:\n",
    "            translated_texts.append(\"Translation failed or not available\")\n",
    "    \n",
    "    return translated_texts"
   ]
  },
  {
   "cell_type": "code",
   "execution_count": 200,
   "metadata": {},
   "outputs": [],
   "source": [
    "# Copy first \n",
    "selected_grievance_translated_10_df = selected_grievance_detected_language_10_df.copy()\n",
    "# Translate the text \n",
    "selected_grievance_translated_10_df['translated_text'] = translate_text(selected_grievance_detected_language_10_df, 'subject_content_text', 'en')"
   ]
  },
  {
   "cell_type": "code",
   "execution_count": 201,
   "metadata": {},
   "outputs": [
    {
     "name": "stdout",
     "output_type": "stream",
     "text": [
      "Justice >> Others\n",
      "-----------------------\n",
      "பெரும் மதிப்பிற்குரிய நீதி அரசர்கள் ஐயா,\n",
      "\n",
      "100 ரூபாய் பத்திரத்தில் 7/3/2020 அன்று என்னை கொடூரமாக தாக்கியதை பார்த்த சங்கிலி கறுப்பர்கள் சாட்சி உறுதி பத்திரம் தந்துள்ளனர் அதனை உரிய நேரத்தில் சமர்பிப்பேன் ஐயா,எதிர் நீச்சல் அடி\n",
      "\n",
      "இன்று ஏற்றுக்கொடி\n",
      "\n",
      "இது Sp க்கும் அவனின் பொய்கதைகளுக்கு பின்னாலும் முன்னாலும் முட்டுகொடுப்பவர்களுக்கு\n",
      "\n",
      "100 ரூபாய் சாட்சி உறுதி பத்திரம் சமர்பணம் .\n",
      "\n",
      "என்னை புண்டாமவன் என்று பேசிய காவலருக்கு\n",
      "எல என்னையால புண்டாமவனு கேட்ட ,அதற்கு நான் எல புண்டாமவனே, அப்படி பொதுமக்களிடம் பேசக்கூடாது என்று சொல்லி கொடுத்தேன் ஐயா,\n",
      "\n",
      "எல நீவ செய்ய வேண்டிய வேலைய நான் செய்றம்ல\n",
      "\n",
      "என் நெஞ்சில மிதிப்பியால\n",
      "\n",
      "உனக்கு லஞ்சம் தரலனா ஏறி மிதிப்பியால\n",
      "\n",
      "என் சாதிய கேவலமா பேசிவியால\n",
      "\n",
      "you Are public servant 🔥என்றும் கூறினேன் ஐயா!\n",
      "\n",
      "🔥Police காரணுக்கும் எனக்கும் சண்டை🔥\n",
      "\n",
      "2019 ல் பிறகு கன்னியாகுமரி Police station உள்ளேயே போய் செப்டம்பர் மாதம் Camera முன்னாடி நின்னு நான்தான் மெசியா என் கடவுச்சீட்டுக்கு ஒரு பைசா லஞ்சம் தரமாட்டேன் கெத்தா ,திமிரா சொன்னவன் உங்கள் இந்திய குடிமகன் மெசியா🔥\n",
      "\n",
      "🔥மயிர்நீப்பின் உயிர்வாழாக்கவரிமா அந்நார் உயிர்நீப்பர் மானம் வரின்🔥\n",
      "\n",
      "மயிர் எடுப்பான் Sp நடவடிக்கை..🔥\n"
     ]
    }
   ],
   "source": [
    "# selected_grievance_translated_10_df[['subject_content_text', 'translated_text']]\n",
    "\n",
    "print(selected_grievance_translated_10_df.loc[7, 'subject_content_text'])"
   ]
  },
  {
   "cell_type": "code",
   "execution_count": 202,
   "metadata": {},
   "outputs": [
    {
     "name": "stdout",
     "output_type": "stream",
     "text": [
      "Justice >> Others\n",
      "-----------------------\n",
      "Most Venerable Justice, Sir,\n",
      "\n",
      "On 7/3/2020, the Chain Blacks who saw me brutally assaulted on a 100 rupee bond have given a testimony which I will submit in due time Sir, Opposite Swimming Feet\n",
      "\n",
      "Acceptance today\n",
      "\n",
      "It's for SP and those who prop up his lies behind and in front of him.\n",
      "\n",
      "Affidavit of Rs.100/- submitted.\n",
      "\n",
      "To the policeman who called me a pundamavan\n",
      "When I asked him if he was able to do that, I told him not to talk to the public like that, sir.\n",
      "\n",
      "I'm not doing what you're supposed to do.\n",
      "\n",
      "In my heart\n",
      "\n",
      "If you don't bribe, you don't have to climb\n",
      "\n",
      "If you talk about my caste\n",
      "\n",
      "You are public servant 🔥, sir!\n",
      "\n",
      "🔥Fight🔥 between Police Karan and me\n",
      "\n",
      "Then in 2019 he went inside the Kanyakumari Police Station and stood in front of the camera in September and said, I am the Messiah, I will not🔥 bribe a single paisa for my passport.\n",
      "\n",
      "🔥The life of🔥 the hair is the life of the soul\n",
      "\n",
      "Operation Hairpicker Sp.. 🔥\n"
     ]
    }
   ],
   "source": [
    "print(selected_grievance_translated_10_df.loc[7, 'translated_text'])"
   ]
  }
 ],
 "metadata": {
  "kernelspec": {
   "display_name": "base",
   "language": "python",
   "name": "python3"
  },
  "language_info": {
   "codemirror_mode": {
    "name": "ipython",
    "version": 3
   },
   "file_extension": ".py",
   "mimetype": "text/x-python",
   "name": "python",
   "nbconvert_exporter": "python",
   "pygments_lexer": "ipython3",
   "version": "3.11.4"
  }
 },
 "nbformat": 4,
 "nbformat_minor": 2
}
